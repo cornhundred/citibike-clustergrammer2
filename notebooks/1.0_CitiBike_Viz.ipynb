{
 "cells": [
  {
   "cell_type": "markdown",
   "metadata": {},
   "source": [
    "# 1.0 CitiBike Viz\n",
    "\n",
    "* add elevation https://developers.google.com/maps/documentation/elevation/start\n",
    "* visualize using ipyleaflet\n",
    "* time vs station depart/arrive\n",
    "* age vs station depart/arrive\n",
    "* ave vs time depart/arrive\n",
    "* station-station distances and google maps biking distances\n",
    "* add neighborhood categories to stations"
   ]
  },
  {
   "cell_type": "code",
   "execution_count": 1,
   "metadata": {},
   "outputs": [],
   "source": [
    "from clustergrammer2 import net\n",
    "df = {}"
   ]
  },
  {
   "cell_type": "code",
   "execution_count": 2,
   "metadata": {},
   "outputs": [],
   "source": [
    "import himc_helper_functions_v0_12_3 as hf\n",
    "import umap"
   ]
  },
  {
   "cell_type": "code",
   "execution_count": 3,
   "metadata": {},
   "outputs": [],
   "source": [
    "def make_umap_plot(df, cat_index, colors_dict, title, min_dist=1.0, n_neighbors=20, s=5.0, alpha=1.0, \n",
    "                   figsize=(10,10)):\n",
    "    cols = df.columns.tolist()\n",
    "    cats = [x[cat_index] for x in cols]\n",
    "    list_colors = [colors_dict[x.split(': ')[1]] for x in cats]\n",
    "    \n",
    "    \n",
    "    \n",
    "    embedding = umap.UMAP(n_neighbors=n_neighbors, random_state=99,\n",
    "                          min_dist=min_dist,\n",
    "                          metric='correlation').fit_transform(df.transpose())\n",
    "    \n",
    "    df_umap = pd.DataFrame(data=embedding, columns=['x', 'y'])\n",
    "    df_umap.plot(kind='scatter', x='x', y='y',  c=list_colors, alpha=alpha, s=s, figsize=figsize, \n",
    "                 title=title)\n",
    "    \n",
    "    return df_umap"
   ]
  },
  {
   "cell_type": "code",
   "execution_count": 4,
   "metadata": {},
   "outputs": [],
   "source": [
    "def make_df_from_cols(cols):\n",
    "    inst_col = cols[0]\n",
    "\n",
    "    cat_titles = []\n",
    "    for inst_info in inst_col[1:]:\n",
    "        inst_title = inst_info.split(': ')[0]\n",
    "        cat_titles.append(inst_title)\n",
    "\n",
    "    clean_cols = []\n",
    "    for inst_col in cols:\n",
    "        inst_clean = []\n",
    "        for inst_info in inst_col:\n",
    "            if ': ' in inst_info:\n",
    "                inst_clean.append(inst_info.split(': ')[1])\n",
    "            else:\n",
    "                inst_clean.append(inst_info)\n",
    "        clean_cols.append(tuple(inst_clean))\n",
    "\n",
    "    df_ini = pd.DataFrame(data=clean_cols).set_index(0)\n",
    "    mat = df_ini.get_values()\n",
    "    rows = df_ini.index.tolist()\n",
    "\n",
    "    print(mat.shape)\n",
    "    print(len(rows))\n",
    "    print(len(clean_cols))\n",
    "\n",
    "    df_meta = pd.DataFrame(data=mat, index=rows, columns=cat_titles)\n",
    "\n",
    "    return df_meta"
   ]
  },
  {
   "cell_type": "code",
   "execution_count": 5,
   "metadata": {},
   "outputs": [],
   "source": [
    "import pandas as pd\n",
    "from copy import deepcopy\n",
    "import numpy as np"
   ]
  },
  {
   "cell_type": "code",
   "execution_count": 6,
   "metadata": {},
   "outputs": [],
   "source": [
    "import matplotlib.pyplot as plt\n",
    "%matplotlib inline "
   ]
  },
  {
   "cell_type": "code",
   "execution_count": 7,
   "metadata": {},
   "outputs": [
    {
     "name": "stdout",
     "output_type": "stream",
     "text": [
      "2.181064 million rides\n"
     ]
    }
   ],
   "source": [
    "df_ini = pd.read_csv('../data/big_data/201907-citibike-tripdata.csv')\n",
    "print(df_ini.shape[0]/1e6, 'million rides')"
   ]
  },
  {
   "cell_type": "code",
   "execution_count": 8,
   "metadata": {},
   "outputs": [],
   "source": [
    "inst_year = 2020"
   ]
  },
  {
   "cell_type": "code",
   "execution_count": 9,
   "metadata": {},
   "outputs": [],
   "source": [
    "mean_age = 40"
   ]
  },
  {
   "cell_type": "code",
   "execution_count": 10,
   "metadata": {
    "scrolled": true
   },
   "outputs": [
    {
     "data": {
      "text/plain": [
       "['tripduration',\n",
       " 'starttime',\n",
       " 'stoptime',\n",
       " 'start station id',\n",
       " 'start station name',\n",
       " 'start station latitude',\n",
       " 'start station longitude',\n",
       " 'end station id',\n",
       " 'end station name',\n",
       " 'end station latitude',\n",
       " 'end station longitude',\n",
       " 'bikeid',\n",
       " 'usertype',\n",
       " 'birth year',\n",
       " 'gender']"
      ]
     },
     "execution_count": 10,
     "metadata": {},
     "output_type": "execute_result"
    }
   ],
   "source": [
    "df_ini.columns.tolist()"
   ]
  },
  {
   "cell_type": "code",
   "execution_count": 11,
   "metadata": {},
   "outputs": [
    {
     "name": "stdout",
     "output_type": "stream",
     "text": [
      "Pershing Square North\n",
      "Pier 40 - Hudson River Park\n",
      "Great Jones St\n",
      "Pershing Square South\n",
      "West Thames St\n",
      "Old Fulton St\n",
      "Cherry St\n",
      "Soissons Landing\n",
      "Water - Whitehall Plaza\n",
      "Yankee Ferry Terminal\n",
      "Picnic Point\n",
      "Brooklyn Bridge Park - Pier 2\n",
      "Washington Park\n",
      "10 Hudson Yards\n"
     ]
    }
   ],
   "source": [
    "all_stations = df_ini['start station name'].value_counts().index.tolist()\n",
    "for inst_station in all_stations:\n",
    "    if '&' not in inst_station:\n",
    "        print(inst_station)"
   ]
  },
  {
   "cell_type": "markdown",
   "metadata": {},
   "source": [
    "### Station Metadata"
   ]
  },
  {
   "cell_type": "code",
   "execution_count": 12,
   "metadata": {},
   "outputs": [],
   "source": [
    "df_meta = pd.DataFrame(all_stations, index=all_stations, columns=['station crossing'])\n",
    "for inst_point in ['start', 'end']:\n",
    "    \n",
    "    # x \n",
    "    df_meta['cross-y'] = df_meta['station crossing'].apply(lambda x: str(x).split(' & ')[0] if '&' in str(x) else x)\n",
    "    \n",
    "    # y \n",
    "    df_meta['cross-x'] = df_meta['station crossing'].apply(lambda x: str(x).split(' & ')[1] if '&' in str(x) else x)\n",
    "    \n",
    "    # Street\n",
    "    ser_st = pd.Series(index=df_meta['cross-y'].index.tolist())\n",
    "    ser_ave = pd.Series(index=df_meta['cross-y'].index.tolist())\n",
    "    \n",
    "    # Find Street and Avenue\n",
    "    for inst_row in ser_st.index.tolist():\n",
    "        inst_st = 'N.A.'\n",
    "        inst_ave = 'N.A.'\n",
    "        \n",
    "        # Find street\n",
    "        if ' St' in df_meta.loc[inst_row, 'cross-y']:\n",
    "            inst_st = df_meta.loc[inst_row, 'cross-y']\n",
    "        elif ' St' in df_meta.loc[inst_row, 'cross-x']:\n",
    "            inst_st = df_meta.loc[inst_row, 'cross-x']\n",
    "            \n",
    "        # Find Avenue\n",
    "        if ' Ave' in df_meta.loc[inst_row, 'cross-y']:\n",
    "            inst_ave = df_meta.loc[inst_row, 'cross-y']\n",
    "        elif ' Ave' in df_meta.loc[inst_row, 'cross-x']:\n",
    "            inst_ave = df_meta.loc[inst_row, 'cross-x']\n",
    "        \n",
    "        ser_st[inst_row] = inst_st\n",
    "        ser_ave[inst_row] = inst_ave\n",
    "\n",
    "df_meta['St'] = ser_st\n",
    "df_meta['Ave'] = ser_ave"
   ]
  },
  {
   "cell_type": "markdown",
   "metadata": {},
   "source": [
    "### Calc Destination Distributions\n",
    "Save positions of stations"
   ]
  },
  {
   "cell_type": "code",
   "execution_count": null,
   "metadata": {},
   "outputs": [],
   "source": [
    "all_stations = sorted(df_ini['start station name'].value_counts().index.tolist())\n",
    "len(all_stations)\n",
    "\n",
    "df_dest = pd.DataFrame(0, index=all_stations, columns=all_stations)\n",
    "for inst_station in all_stations:\n",
    "    inst_df = df_ini.loc[df_ini['start station name'] == inst_station]\n",
    "    ser_destination = inst_df['end station name'].value_counts()\n",
    "    ser_destination.name = inst_station\n",
    "    \n",
    "    df_dest[inst_station] = ser_destination\n",
    "    \n",
    "    df_meta.loc[inst_station, 'start station latitude'] = inst_df['start station latitude'].mean()\n",
    "    df_meta.loc[inst_station, 'start station longitude'] = inst_df['start station longitude'].mean()    \n",
    "    \n",
    "    # save average departing age\n",
    "    df_meta.loc[inst_station, 'departing age'] = inst_year - inst_df['birth year'].mean() - mean_age\n",
    "    \n",
    "    inst_df = df_ini.loc[df_ini['end station name'] == inst_station]    \n",
    "    df_meta.loc[inst_station, 'arriving age'] = inst_year - inst_df['birth year'].mean() - mean_age   \n",
    "    \n",
    "df_dest.shape"
   ]
  },
  {
   "cell_type": "code",
   "execution_count": null,
   "metadata": {},
   "outputs": [],
   "source": [
    "df_dest = df_dest.fillna(0)\n",
    "df_dest.head()"
   ]
  },
  {
   "cell_type": "code",
   "execution_count": null,
   "metadata": {},
   "outputs": [],
   "source": [
    "df_meta.head()"
   ]
  },
  {
   "cell_type": "code",
   "execution_count": null,
   "metadata": {},
   "outputs": [],
   "source": [
    "df_cat = deepcopy(df_dest)\n",
    "add_cat_list = ['cross-x', 'cross-y', 'departing age']\n",
    "new_cols = hf.add_cats_from_meta(add_cat_list=add_cat_list, barcodes=df_cat.columns.tolist(), df_meta=df_meta)\n",
    "\n",
    "add_cat_list = ['cross-x', 'cross-y', 'arriving age']\n",
    "new_rows = hf.add_cats_from_meta(add_cat_list=add_cat_list, barcodes=df_cat.index.tolist(), df_meta=df_meta)\n",
    "\n",
    "df_cat.columns = new_cols\n",
    "df_cat.index = new_rows"
   ]
  },
  {
   "cell_type": "code",
   "execution_count": null,
   "metadata": {},
   "outputs": [],
   "source": [
    "df_norm = net.umi_norm(df_cat)"
   ]
  },
  {
   "cell_type": "markdown",
   "metadata": {},
   "source": [
    "### Identify Clusters (Neighborhoods)"
   ]
  },
  {
   "cell_type": "code",
   "execution_count": null,
   "metadata": {},
   "outputs": [],
   "source": [
    "group_level = 6\n",
    "net.load_df(df_norm)\n",
    "net.normalize(axis='row', norm_type='zscore')\n",
    "net.clip(-5,5)\n",
    "net.cluster()\n",
    "net.dendro_cats(axis='col', dendro_level=group_level)\n",
    "net_clust = net.export_df()\n",
    "cols = net_clust.columns.tolist()\n",
    "ser_cluster = make_df_from_cols(cols)['Group ' + str(group_level)]\n",
    "ser_cluster.head()"
   ]
  },
  {
   "cell_type": "code",
   "execution_count": null,
   "metadata": {},
   "outputs": [],
   "source": [
    "df_meta['Cluster'] = ser_cluster"
   ]
  },
  {
   "cell_type": "code",
   "execution_count": null,
   "metadata": {},
   "outputs": [],
   "source": [
    "ser_counts = ser_cluster.value_counts()\n",
    "ser_counts = ser_counts[sorted(ser_counts.index.tolist())]\n",
    "ser_counts"
   ]
  },
  {
   "cell_type": "markdown",
   "metadata": {},
   "source": [
    "### Map Out Neighborhoods"
   ]
  },
  {
   "cell_type": "code",
   "execution_count": null,
   "metadata": {},
   "outputs": [],
   "source": [
    "name_dict = {}\n",
    "name_dict['cat-1'] = 'Governors Island'\n",
    "name_dict['cat-2'] = 'Queens'\n",
    "name_dict['cat-3'] = 'Queens'\n",
    "name_dict['cat-4'] = 'North Brooklyn'\n",
    "name_dict['cat-5'] = 'South Brooklyn'\n",
    "name_dict['cat-6'] = 'Central Brooklyn'\n",
    "name_dict['cat-7'] = 'Central Brooklyn'\n",
    "name_dict['cat-8'] = 'Lower Manhattan'\n",
    "name_dict['cat-9'] = 'Upper West Side'\n",
    "name_dict['cat-10'] = 'Harlem'\n",
    "name_dict['cat-11'] = 'Upper East Side'\n",
    "name_dict['cat-12'] = 'Midtown'"
   ]
  },
  {
   "cell_type": "code",
   "execution_count": null,
   "metadata": {
    "scrolled": false
   },
   "outputs": [],
   "source": [
    "color_dict = {}\n",
    "color_dict['cat-1'] = 'brown'\n",
    "color_dict['cat-2'] = '#FFA500'\n",
    "color_dict['cat-3'] = '#D3D3D3'\n",
    "color_dict['cat-4'] = 'green'\n",
    "color_dict['cat-5'] = '#0048BA'\n",
    "color_dict['cat-6'] = '#A50B5E'\n",
    "color_dict['cat-7'] = '#A50B5E'\n",
    "color_dict['cat-8'] = '#FFD12A'\n",
    "color_dict['cat-9'] = 'purple'\n",
    "color_dict['cat-10'] = 'blue'\n",
    "color_dict['cat-11'] = '#3AA8C1'\n",
    "color_dict['cat-12'] = 'red'\n",
    "\n",
    "color_list = [color_dict[df_meta.loc[x, 'Cluster']] for x in df_meta.index.tolist()]\n",
    "df_meta.plot(kind='scatter', x='start station longitude', y='start station latitude', figsize=(15,15), c=color_list, s=50)"
   ]
  },
  {
   "cell_type": "code",
   "execution_count": null,
   "metadata": {},
   "outputs": [],
   "source": [
    "cat_colors = {}\n",
    "for inst_clust in color_dict:\n",
    "    inst_neighborhood = name_dict[inst_clust]\n",
    "    inst_color = color_dict[inst_clust]\n",
    "    cat_colors[inst_neighborhood] = inst_color"
   ]
  },
  {
   "cell_type": "code",
   "execution_count": null,
   "metadata": {},
   "outputs": [],
   "source": [
    "df_meta['Neighborhood'] = df_meta['Cluster'].apply(lambda x: name_dict[x])\n",
    "df_meta['Neighborhood'].head()"
   ]
  },
  {
   "cell_type": "markdown",
   "metadata": {},
   "source": [
    "### Add category for clusters"
   ]
  },
  {
   "cell_type": "code",
   "execution_count": null,
   "metadata": {},
   "outputs": [],
   "source": [
    "df_cat = deepcopy(df_dest)\n",
    "add_cat_list = ['Neighborhood', 'cross-x', 'cross-y', 'departing age']\n",
    "new_cols = hf.add_cats_from_meta(add_cat_list=add_cat_list, barcodes=df_cat.columns.tolist(), df_meta=df_meta)\n",
    "\n",
    "add_cat_list = ['Neighborhood', 'cross-x', 'cross-y', 'arriving age']\n",
    "new_rows = hf.add_cats_from_meta(add_cat_list=add_cat_list, barcodes=df_cat.index.tolist(), df_meta=df_meta)\n",
    "\n",
    "df_norm.columns = new_cols\n",
    "df_norm.index = new_rows"
   ]
  },
  {
   "cell_type": "code",
   "execution_count": null,
   "metadata": {},
   "outputs": [],
   "source": [
    "net.load_df(df_norm)\n",
    "net.set_cat_colors(axis='col', cat_colors=cat_colors, cat_index=1, cat_title='Neighborhood')\n",
    "net.set_cat_colors(axis='row', cat_colors=cat_colors, cat_index=1, cat_title='Neighborhood')\n",
    "net.normalize(axis='row', norm_type='zscore')\n",
    "net.clip(-5,5)\n",
    "net.widget()"
   ]
  },
  {
   "cell_type": "code",
   "execution_count": null,
   "metadata": {},
   "outputs": [],
   "source": [
    "df_export = net.export_df()\n",
    "df_export.to_csv('../data/processed/citibike.csv')"
   ]
  },
  {
   "cell_type": "code",
   "execution_count": null,
   "metadata": {},
   "outputs": [],
   "source": [
    "!mkdir -p ../data/processed/\n",
    "net.save_dict_to_json(inst_dict=net.viz, filename='../data/processed/pre-calc-viz.json', indent=False)"
   ]
  },
  {
   "cell_type": "markdown",
   "metadata": {},
   "source": [
    "### Calculate UMAP"
   ]
  },
  {
   "cell_type": "code",
   "execution_count": null,
   "metadata": {},
   "outputs": [],
   "source": [
    "ini_cat_colors = net.viz['cat_colors']['col']['cat-0']\n",
    "cat_colors = {}\n",
    "for inst_key in ini_cat_colors:\n",
    "    cat_colors[inst_key.split(': ')[1]] = ini_cat_colors[inst_key]"
   ]
  },
  {
   "cell_type": "code",
   "execution_count": null,
   "metadata": {},
   "outputs": [],
   "source": [
    "df_umap = make_umap_plot(df_norm, cat_index=1, title='UMAP', colors_dict=cat_colors)"
   ]
  },
  {
   "cell_type": "code",
   "execution_count": null,
   "metadata": {},
   "outputs": [],
   "source": [
    "df_umap.columns = ['umap-x', 'umap-y']\n",
    "df_umap.index = df_meta.index.tolist()"
   ]
  },
  {
   "cell_type": "code",
   "execution_count": null,
   "metadata": {},
   "outputs": [],
   "source": [
    "df_new_meta = pd.concat([df_meta, df_umap], axis=1)"
   ]
  },
  {
   "cell_type": "code",
   "execution_count": null,
   "metadata": {},
   "outputs": [],
   "source": [
    "rows = sorted(df_new_meta.index.tolist())\n",
    "df_new_meta = df_new_meta.loc[rows]\n",
    "df_new_meta.head()"
   ]
  },
  {
   "cell_type": "code",
   "execution_count": null,
   "metadata": {},
   "outputs": [],
   "source": [
    "df_new_meta.to_csv('../data/processed/df_meta_v2.csv')"
   ]
  },
  {
   "cell_type": "code",
   "execution_count": null,
   "metadata": {},
   "outputs": [],
   "source": []
  },
  {
   "cell_type": "code",
   "execution_count": null,
   "metadata": {},
   "outputs": [],
   "source": []
  },
  {
   "cell_type": "code",
   "execution_count": null,
   "metadata": {},
   "outputs": [],
   "source": []
  },
  {
   "cell_type": "code",
   "execution_count": null,
   "metadata": {},
   "outputs": [],
   "source": []
  },
  {
   "cell_type": "code",
   "execution_count": null,
   "metadata": {},
   "outputs": [],
   "source": []
  },
  {
   "cell_type": "code",
   "execution_count": null,
   "metadata": {},
   "outputs": [],
   "source": []
  },
  {
   "cell_type": "code",
   "execution_count": null,
   "metadata": {},
   "outputs": [],
   "source": []
  }
 ],
 "metadata": {
  "kernelspec": {
   "display_name": "Python 3",
   "language": "python",
   "name": "python3"
  },
  "language_info": {
   "codemirror_mode": {
    "name": "ipython",
    "version": 3
   },
   "file_extension": ".py",
   "mimetype": "text/x-python",
   "name": "python",
   "nbconvert_exporter": "python",
   "pygments_lexer": "ipython3",
   "version": "3.6.5"
  }
 },
 "nbformat": 4,
 "nbformat_minor": 2
}
