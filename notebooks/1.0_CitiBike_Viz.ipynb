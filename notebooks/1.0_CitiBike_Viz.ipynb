{
 "cells": [
  {
   "cell_type": "markdown",
   "metadata": {},
   "source": [
    "# 1.0 CitiBike Viz\n",
    "\n",
    "* add elevation https://developers.google.com/maps/documentation/elevation/start\n",
    "* visualize using ipyleaflet\n",
    "* time vs station depart/arrive\n",
    "* age vs station depart/arrive\n",
    "* ave vs time depart/arrive\n",
    "* station-station distances and google maps biking distances\n",
    "* add neighborhood categories to stations"
   ]
  },
  {
   "cell_type": "code",
   "execution_count": 1,
   "metadata": {},
   "outputs": [],
   "source": [
    "from clustergrammer2 import net\n",
    "df = {}"
   ]
  },
  {
   "cell_type": "code",
   "execution_count": 144,
   "metadata": {},
   "outputs": [],
   "source": [
    "import himc_helper_functions_v0_12_3 as hf\n",
    "import datetime\n",
    "import umap"
   ]
  },
  {
   "cell_type": "code",
   "execution_count": 146,
   "metadata": {},
   "outputs": [],
   "source": [
    "def make_umap_plot(df, cat_index, colors_dict, title, min_dist=1.0, n_neighbors=20, s=5.0, alpha=1.0, \n",
    "                   figsize=(10,10)):\n",
    "    cols = df.columns.tolist()\n",
    "    cats = [x[cat_index] for x in cols]\n",
    "    list_colors = [colors_dict[x.split(': ')[1]] for x in cats]\n",
    "    \n",
    "    \n",
    "    \n",
    "    embedding = umap.UMAP(n_neighbors=n_neighbors, random_state=99,\n",
    "                          min_dist=min_dist,\n",
    "                          metric='correlation').fit_transform(df.transpose())\n",
    "    \n",
    "    df_umap = pd.DataFrame(data=embedding, columns=['x', 'y'])\n",
    "    df_umap.plot(kind='scatter', x='x', y='y',  c=list_colors, alpha=alpha, s=s, figsize=figsize, \n",
    "                 title=title)\n",
    "    \n",
    "    return df_umap"
   ]
  },
  {
   "cell_type": "code",
   "execution_count": 2,
   "metadata": {},
   "outputs": [],
   "source": [
    "import pandas as pd\n",
    "from copy import deepcopy\n",
    "import numpy as np"
   ]
  },
  {
   "cell_type": "code",
   "execution_count": 3,
   "metadata": {},
   "outputs": [],
   "source": [
    "import matplotlib.pyplot as plt\n",
    "%matplotlib inline "
   ]
  },
  {
   "cell_type": "code",
   "execution_count": 18,
   "metadata": {},
   "outputs": [
    {
     "data": {
      "text/plain": [
       "(967287, 15)"
      ]
     },
     "execution_count": 18,
     "metadata": {},
     "output_type": "execute_result"
    }
   ],
   "source": [
    "df_ini = pd.read_csv('../data/big_data/201901-citibike-tripdata.csv')\n",
    "df_ini.shape"
   ]
  },
  {
   "cell_type": "code",
   "execution_count": 119,
   "metadata": {},
   "outputs": [
    {
     "data": {
      "text/plain": [
       "2020"
      ]
     },
     "execution_count": 119,
     "metadata": {},
     "output_type": "execute_result"
    }
   ],
   "source": [
    "now = datetime.datetime.now()\n",
    "inst_year = now.year\n",
    "inst_year"
   ]
  },
  {
   "cell_type": "code",
   "execution_count": 135,
   "metadata": {},
   "outputs": [],
   "source": [
    "mean_age = 40"
   ]
  },
  {
   "cell_type": "code",
   "execution_count": 19,
   "metadata": {
    "scrolled": true
   },
   "outputs": [
    {
     "data": {
      "text/plain": [
       "['tripduration',\n",
       " 'starttime',\n",
       " 'stoptime',\n",
       " 'start station id',\n",
       " 'start station name',\n",
       " 'start station latitude',\n",
       " 'start station longitude',\n",
       " 'end station id',\n",
       " 'end station name',\n",
       " 'end station latitude',\n",
       " 'end station longitude',\n",
       " 'bikeid',\n",
       " 'usertype',\n",
       " 'birth year',\n",
       " 'gender']"
      ]
     },
     "execution_count": 19,
     "metadata": {},
     "output_type": "execute_result"
    }
   ],
   "source": [
    "df_ini.columns.tolist()"
   ]
  },
  {
   "cell_type": "code",
   "execution_count": 44,
   "metadata": {},
   "outputs": [
    {
     "name": "stdout",
     "output_type": "stream",
     "text": [
      "10 Hudson Yards\n",
      "58th St Depot\n",
      "Cherry St\n",
      "Great Jones St\n",
      "NYCBS DEPOT - DELANCEY\n",
      "NYCBS Depot - GOW\n",
      "Old Fulton St\n",
      "Pershing Square North\n",
      "Pershing Square South\n",
      "Pier 40 - Hudson River Park\n",
      "Washington Park\n",
      "Water - Whitehall Plaza\n",
      "West Thames St\n"
     ]
    }
   ],
   "source": [
    "for inst_station in all_stations:\n",
    "    if '&' not in inst_station:\n",
    "        print(inst_station)"
   ]
  },
  {
   "cell_type": "markdown",
   "metadata": {},
   "source": [
    "### Station Metadata"
   ]
  },
  {
   "cell_type": "code",
   "execution_count": 106,
   "metadata": {},
   "outputs": [],
   "source": [
    "df_meta = pd.DataFrame(all_stations, index=all_stations, columns=['station crossing'])\n",
    "for inst_point in ['start', 'end']:\n",
    "    \n",
    "    # x \n",
    "    df_meta['cross-y'] = df_meta['station crossing'].apply(lambda x: str(x).split(' & ')[0] if '&' in str(x) else x)\n",
    "    \n",
    "    # y \n",
    "    df_meta['cross-x'] = df_meta['station crossing'].apply(lambda x: str(x).split(' & ')[1] if '&' in str(x) else x)\n",
    "    \n",
    "    # Street\n",
    "    ser_st = pd.Series(index=df_meta['cross-y'].index.tolist())\n",
    "    ser_ave = pd.Series(index=df_meta['cross-y'].index.tolist())\n",
    "    \n",
    "    # Find Street and Avenue\n",
    "    for inst_row in ser_st.index.tolist():\n",
    "        inst_st = 'N.A.'\n",
    "        inst_ave = 'N.A.'\n",
    "        \n",
    "        # Find street\n",
    "        if ' St' in df_meta.loc[inst_row, 'cross-y']:\n",
    "            inst_st = df_meta.loc[inst_row, 'cross-y']\n",
    "        elif ' St' in df_meta.loc[inst_row, 'cross-x']:\n",
    "            inst_st = df_meta.loc[inst_row, 'cross-x']\n",
    "            \n",
    "        # Find Avenue\n",
    "        if ' Ave' in df_meta.loc[inst_row, 'cross-y']:\n",
    "            inst_ave = df_meta.loc[inst_row, 'cross-y']\n",
    "        elif ' Ave' in df_meta.loc[inst_row, 'cross-x']:\n",
    "            inst_ave = df_meta.loc[inst_row, 'cross-x']\n",
    "        \n",
    "        ser_st[inst_row] = inst_st\n",
    "        ser_ave[inst_row] = inst_ave\n",
    "\n",
    "df_meta['St'] = ser_st\n",
    "df_meta['Ave'] = ser_ave"
   ]
  },
  {
   "cell_type": "markdown",
   "metadata": {},
   "source": [
    "### Calc Destination Distributions\n",
    "Save positions of stations"
   ]
  },
  {
   "cell_type": "code",
   "execution_count": 136,
   "metadata": {},
   "outputs": [
    {
     "data": {
      "text/plain": [
       "(767, 767)"
      ]
     },
     "execution_count": 136,
     "metadata": {},
     "output_type": "execute_result"
    }
   ],
   "source": [
    "all_stations = sorted(df_ini['start station name'].value_counts().index.tolist())\n",
    "len(all_stations)\n",
    "\n",
    "df_dest = pd.DataFrame(0, index=all_stations, columns=all_stations)\n",
    "for inst_station in all_stations:\n",
    "    inst_df = df_ini.loc[df_ini['start station name'] == inst_station]\n",
    "    ser_destination = inst_df['end station name'].value_counts()\n",
    "    ser_destination.name = inst_station\n",
    "    \n",
    "    df_dest[inst_station] = ser_destination\n",
    "    \n",
    "    df_meta.loc[inst_station, 'start station latitude'] = inst_df['start station latitude'].mean()\n",
    "    df_meta.loc[inst_station, 'start station longitude'] = inst_df['start station longitude'].mean()    \n",
    "    \n",
    "    # save average departing age\n",
    "    df_meta.loc[inst_station, 'departing age'] = inst_year - inst_df['birth year'].mean() - mean_age\n",
    "    \n",
    "    inst_df = df_ini.loc[df_ini['end station name'] == inst_station]    \n",
    "    df_meta.loc[inst_station, 'arriving age'] = inst_year - inst_df['birth year'].mean() - mean_age   \n",
    "    \n",
    "df_dest.shape"
   ]
  },
  {
   "cell_type": "code",
   "execution_count": 137,
   "metadata": {},
   "outputs": [
    {
     "data": {
      "text/plain": [
       "(767, 767)"
      ]
     },
     "execution_count": 137,
     "metadata": {},
     "output_type": "execute_result"
    }
   ],
   "source": [
    "df_dest = df_dest.fillna(0)\n",
    "df_dest.shape"
   ]
  },
  {
   "cell_type": "code",
   "execution_count": 138,
   "metadata": {},
   "outputs": [
    {
     "data": {
      "text/html": [
       "<div>\n",
       "<style scoped>\n",
       "    .dataframe tbody tr th:only-of-type {\n",
       "        vertical-align: middle;\n",
       "    }\n",
       "\n",
       "    .dataframe tbody tr th {\n",
       "        vertical-align: top;\n",
       "    }\n",
       "\n",
       "    .dataframe thead th {\n",
       "        text-align: right;\n",
       "    }\n",
       "</style>\n",
       "<table border=\"1\" class=\"dataframe\">\n",
       "  <thead>\n",
       "    <tr style=\"text-align: right;\">\n",
       "      <th></th>\n",
       "      <th>station crossing</th>\n",
       "      <th>cross-y</th>\n",
       "      <th>cross-x</th>\n",
       "      <th>St</th>\n",
       "      <th>Ave</th>\n",
       "      <th>start station latitude</th>\n",
       "      <th>start station longitude</th>\n",
       "      <th>departing age</th>\n",
       "      <th>arriving age</th>\n",
       "    </tr>\n",
       "  </thead>\n",
       "  <tbody>\n",
       "    <tr>\n",
       "      <th>1 Ave &amp; E 110 St</th>\n",
       "      <td>1 Ave &amp; E 110 St</td>\n",
       "      <td>1 Ave</td>\n",
       "      <td>E 110 St</td>\n",
       "      <td>E 110 St</td>\n",
       "      <td>1 Ave</td>\n",
       "      <td>40.792327</td>\n",
       "      <td>-73.938300</td>\n",
       "      <td>-1.676546</td>\n",
       "      <td>-1.569250</td>\n",
       "    </tr>\n",
       "    <tr>\n",
       "      <th>1 Ave &amp; E 16 St</th>\n",
       "      <td>1 Ave &amp; E 16 St</td>\n",
       "      <td>1 Ave</td>\n",
       "      <td>E 16 St</td>\n",
       "      <td>E 16 St</td>\n",
       "      <td>1 Ave</td>\n",
       "      <td>40.732219</td>\n",
       "      <td>-73.981656</td>\n",
       "      <td>-1.326959</td>\n",
       "      <td>0.605360</td>\n",
       "    </tr>\n",
       "    <tr>\n",
       "      <th>1 Ave &amp; E 18 St</th>\n",
       "      <td>1 Ave &amp; E 18 St</td>\n",
       "      <td>1 Ave</td>\n",
       "      <td>E 18 St</td>\n",
       "      <td>E 18 St</td>\n",
       "      <td>1 Ave</td>\n",
       "      <td>40.733812</td>\n",
       "      <td>-73.980544</td>\n",
       "      <td>0.437596</td>\n",
       "      <td>-0.225231</td>\n",
       "    </tr>\n",
       "    <tr>\n",
       "      <th>1 Ave &amp; E 30 St</th>\n",
       "      <td>1 Ave &amp; E 30 St</td>\n",
       "      <td>1 Ave</td>\n",
       "      <td>E 30 St</td>\n",
       "      <td>E 30 St</td>\n",
       "      <td>1 Ave</td>\n",
       "      <td>40.741444</td>\n",
       "      <td>-73.975361</td>\n",
       "      <td>0.644453</td>\n",
       "      <td>1.558185</td>\n",
       "    </tr>\n",
       "    <tr>\n",
       "      <th>1 Ave &amp; E 44 St</th>\n",
       "      <td>1 Ave &amp; E 44 St</td>\n",
       "      <td>1 Ave</td>\n",
       "      <td>E 44 St</td>\n",
       "      <td>E 44 St</td>\n",
       "      <td>1 Ave</td>\n",
       "      <td>40.750020</td>\n",
       "      <td>-73.969053</td>\n",
       "      <td>5.240284</td>\n",
       "      <td>4.919736</td>\n",
       "    </tr>\n",
       "  </tbody>\n",
       "</table>\n",
       "</div>"
      ],
      "text/plain": [
       "                  station crossing cross-y   cross-x        St    Ave  \\\n",
       "1 Ave & E 110 St  1 Ave & E 110 St   1 Ave  E 110 St  E 110 St  1 Ave   \n",
       "1 Ave & E 16 St    1 Ave & E 16 St   1 Ave   E 16 St   E 16 St  1 Ave   \n",
       "1 Ave & E 18 St    1 Ave & E 18 St   1 Ave   E 18 St   E 18 St  1 Ave   \n",
       "1 Ave & E 30 St    1 Ave & E 30 St   1 Ave   E 30 St   E 30 St  1 Ave   \n",
       "1 Ave & E 44 St    1 Ave & E 44 St   1 Ave   E 44 St   E 44 St  1 Ave   \n",
       "\n",
       "                  start station latitude  start station longitude  \\\n",
       "1 Ave & E 110 St               40.792327               -73.938300   \n",
       "1 Ave & E 16 St                40.732219               -73.981656   \n",
       "1 Ave & E 18 St                40.733812               -73.980544   \n",
       "1 Ave & E 30 St                40.741444               -73.975361   \n",
       "1 Ave & E 44 St                40.750020               -73.969053   \n",
       "\n",
       "                  departing age  arriving age  \n",
       "1 Ave & E 110 St      -1.676546     -1.569250  \n",
       "1 Ave & E 16 St       -1.326959      0.605360  \n",
       "1 Ave & E 18 St        0.437596     -0.225231  \n",
       "1 Ave & E 30 St        0.644453      1.558185  \n",
       "1 Ave & E 44 St        5.240284      4.919736  "
      ]
     },
     "execution_count": 138,
     "metadata": {},
     "output_type": "execute_result"
    }
   ],
   "source": [
    "df_meta.head()"
   ]
  },
  {
   "cell_type": "code",
   "execution_count": 139,
   "metadata": {},
   "outputs": [],
   "source": [
    "df_cat = deepcopy(df_dest)\n",
    "add_cat_list = ['cross-x', 'cross-y', 'departing age']\n",
    "new_cols = hf.add_cats_from_meta(add_cat_list=add_cat_list, barcodes=df_cat.columns.tolist(), df_meta=df_meta)\n",
    "\n",
    "add_cat_list = ['cross-x', 'cross-y', 'arriving age']\n",
    "new_rows = hf.add_cats_from_meta(add_cat_list=add_cat_list, barcodes=df_cat.index.tolist(), df_meta=df_meta)\n",
    "\n",
    "df_cat.columns = new_cols\n",
    "df_cat.index = new_rows"
   ]
  },
  {
   "cell_type": "code",
   "execution_count": 140,
   "metadata": {},
   "outputs": [],
   "source": [
    "df_norm = net.umi_norm(df_cat)"
   ]
  },
  {
   "cell_type": "code",
   "execution_count": 141,
   "metadata": {},
   "outputs": [
    {
     "data": {
      "application/vnd.jupyter.widget-view+json": {
       "model_id": "2ca682fc311048aca602dca15a4fdcc6",
       "version_major": 2,
       "version_minor": 0
      },
      "text/plain": [
       "ExampleWidget(network='{\"row_nodes\": [{\"name\": \"1 Ave & E 110 St\", \"ini\": 767, \"clust\": 404, \"rank\": 98, \"rank…"
      ]
     },
     "metadata": {},
     "output_type": "display_data"
    }
   ],
   "source": [
    "net.load_df(df_norm)\n",
    "net.normalize(axis='row', norm_type='zscore')\n",
    "net.clip(-5,5)\n",
    "net.widget()"
   ]
  },
  {
   "cell_type": "code",
   "execution_count": 162,
   "metadata": {},
   "outputs": [],
   "source": [
    "df_export = net.export_df()\n",
    "df_export.to_csv('../data/processed/citibike.csv')"
   ]
  },
  {
   "cell_type": "code",
   "execution_count": 143,
   "metadata": {},
   "outputs": [],
   "source": [
    "!mkdir -p ../data/processed/\n",
    "net.save_dict_to_json(inst_dict=net.viz, filename='../data/processed/pre-calc-viz.json', indent=False)"
   ]
  },
  {
   "cell_type": "markdown",
   "metadata": {},
   "source": [
    "### Calculate UMAP"
   ]
  },
  {
   "cell_type": "code",
   "execution_count": 148,
   "metadata": {},
   "outputs": [],
   "source": [
    "ini_cat_colors = net.viz['cat_colors']['col']['cat-0']\n",
    "cat_colors = {}\n",
    "for inst_key in ini_cat_colors:\n",
    "    cat_colors[inst_key.split(': ')[1]] = ini_cat_colors[inst_key]"
   ]
  },
  {
   "cell_type": "code",
   "execution_count": 149,
   "metadata": {},
   "outputs": [
    {
     "data": {
      "image/png": "[encoded data removed]",
      "text/plain": [
       "<Figure size 720x720 with 1 Axes>"
      ]
     },
     "metadata": {},
     "output_type": "display_data"
    }
   ],
   "source": [
    "df_umap = make_umap_plot(df_norm, cat_index=1, title='UMAP', colors_dict=cat_colors)"
   ]
  },
  {
   "cell_type": "code",
   "execution_count": 154,
   "metadata": {},
   "outputs": [
    {
     "data": {
      "text/plain": [
       "<matplotlib.axes._subplots.AxesSubplot at 0x1a0feb1ac8>"
      ]
     },
     "execution_count": 154,
     "metadata": {},
     "output_type": "execute_result"
    },
    {
     "data": {
      "image/png": "[encoded data removed]",
      "text/plain": [
       "<Figure size 1080x1080 with 1 Axes>"
      ]
     },
     "metadata": {},
     "output_type": "display_data"
    }
   ],
   "source": [
    "df_meta.plot(kind='scatter', x='start station longitude', y='start station latitude', figsize=(15,15))"
   ]
  },
  {
   "cell_type": "code",
   "execution_count": 157,
   "metadata": {},
   "outputs": [],
   "source": [
    "df_umap.columns = ['umap-x', 'umap-y']\n",
    "df_umap.index = df_meta.index.tolist()"
   ]
  },
  {
   "cell_type": "code",
   "execution_count": 158,
   "metadata": {},
   "outputs": [],
   "source": [
    "df_new_meta = pd.concat([df_meta, df_umap], axis=1)"
   ]
  },
  {
   "cell_type": "code",
   "execution_count": 159,
   "metadata": {},
   "outputs": [
    {
     "data": {
      "text/html": [
       "<div>\n",
       "<style scoped>\n",
       "    .dataframe tbody tr th:only-of-type {\n",
       "        vertical-align: middle;\n",
       "    }\n",
       "\n",
       "    .dataframe tbody tr th {\n",
       "        vertical-align: top;\n",
       "    }\n",
       "\n",
       "    .dataframe thead th {\n",
       "        text-align: right;\n",
       "    }\n",
       "</style>\n",
       "<table border=\"1\" class=\"dataframe\">\n",
       "  <thead>\n",
       "    <tr style=\"text-align: right;\">\n",
       "      <th></th>\n",
       "      <th>station crossing</th>\n",
       "      <th>cross-y</th>\n",
       "      <th>cross-x</th>\n",
       "      <th>St</th>\n",
       "      <th>Ave</th>\n",
       "      <th>start station latitude</th>\n",
       "      <th>start station longitude</th>\n",
       "      <th>departing age</th>\n",
       "      <th>arriving age</th>\n",
       "      <th>umap-x</th>\n",
       "      <th>umap-y</th>\n",
       "    </tr>\n",
       "  </thead>\n",
       "  <tbody>\n",
       "    <tr>\n",
       "      <th>1 Ave &amp; E 110 St</th>\n",
       "      <td>1 Ave &amp; E 110 St</td>\n",
       "      <td>1 Ave</td>\n",
       "      <td>E 110 St</td>\n",
       "      <td>E 110 St</td>\n",
       "      <td>1 Ave</td>\n",
       "      <td>40.792327</td>\n",
       "      <td>-73.938300</td>\n",
       "      <td>-1.676546</td>\n",
       "      <td>-1.569250</td>\n",
       "      <td>-8.155725</td>\n",
       "      <td>-19.692968</td>\n",
       "    </tr>\n",
       "    <tr>\n",
       "      <th>1 Ave &amp; E 16 St</th>\n",
       "      <td>1 Ave &amp; E 16 St</td>\n",
       "      <td>1 Ave</td>\n",
       "      <td>E 16 St</td>\n",
       "      <td>E 16 St</td>\n",
       "      <td>1 Ave</td>\n",
       "      <td>40.732219</td>\n",
       "      <td>-73.981656</td>\n",
       "      <td>-1.326959</td>\n",
       "      <td>0.605360</td>\n",
       "      <td>-7.907963</td>\n",
       "      <td>-7.130380</td>\n",
       "    </tr>\n",
       "    <tr>\n",
       "      <th>1 Ave &amp; E 18 St</th>\n",
       "      <td>1 Ave &amp; E 18 St</td>\n",
       "      <td>1 Ave</td>\n",
       "      <td>E 18 St</td>\n",
       "      <td>E 18 St</td>\n",
       "      <td>1 Ave</td>\n",
       "      <td>40.733812</td>\n",
       "      <td>-73.980544</td>\n",
       "      <td>0.437596</td>\n",
       "      <td>-0.225231</td>\n",
       "      <td>-7.955847</td>\n",
       "      <td>-7.705673</td>\n",
       "    </tr>\n",
       "    <tr>\n",
       "      <th>1 Ave &amp; E 30 St</th>\n",
       "      <td>1 Ave &amp; E 30 St</td>\n",
       "      <td>1 Ave</td>\n",
       "      <td>E 30 St</td>\n",
       "      <td>E 30 St</td>\n",
       "      <td>1 Ave</td>\n",
       "      <td>40.741444</td>\n",
       "      <td>-73.975361</td>\n",
       "      <td>0.644453</td>\n",
       "      <td>1.558185</td>\n",
       "      <td>-6.487140</td>\n",
       "      <td>-9.565009</td>\n",
       "    </tr>\n",
       "    <tr>\n",
       "      <th>1 Ave &amp; E 44 St</th>\n",
       "      <td>1 Ave &amp; E 44 St</td>\n",
       "      <td>1 Ave</td>\n",
       "      <td>E 44 St</td>\n",
       "      <td>E 44 St</td>\n",
       "      <td>1 Ave</td>\n",
       "      <td>40.750020</td>\n",
       "      <td>-73.969053</td>\n",
       "      <td>5.240284</td>\n",
       "      <td>4.919736</td>\n",
       "      <td>-6.238329</td>\n",
       "      <td>-13.382294</td>\n",
       "    </tr>\n",
       "  </tbody>\n",
       "</table>\n",
       "</div>"
      ],
      "text/plain": [
       "                  station crossing cross-y   cross-x        St    Ave  \\\n",
       "1 Ave & E 110 St  1 Ave & E 110 St   1 Ave  E 110 St  E 110 St  1 Ave   \n",
       "1 Ave & E 16 St    1 Ave & E 16 St   1 Ave   E 16 St   E 16 St  1 Ave   \n",
       "1 Ave & E 18 St    1 Ave & E 18 St   1 Ave   E 18 St   E 18 St  1 Ave   \n",
       "1 Ave & E 30 St    1 Ave & E 30 St   1 Ave   E 30 St   E 30 St  1 Ave   \n",
       "1 Ave & E 44 St    1 Ave & E 44 St   1 Ave   E 44 St   E 44 St  1 Ave   \n",
       "\n",
       "                  start station latitude  start station longitude  \\\n",
       "1 Ave & E 110 St               40.792327               -73.938300   \n",
       "1 Ave & E 16 St                40.732219               -73.981656   \n",
       "1 Ave & E 18 St                40.733812               -73.980544   \n",
       "1 Ave & E 30 St                40.741444               -73.975361   \n",
       "1 Ave & E 44 St                40.750020               -73.969053   \n",
       "\n",
       "                  departing age  arriving age    umap-x     umap-y  \n",
       "1 Ave & E 110 St      -1.676546     -1.569250 -8.155725 -19.692968  \n",
       "1 Ave & E 16 St       -1.326959      0.605360 -7.907963  -7.130380  \n",
       "1 Ave & E 18 St        0.437596     -0.225231 -7.955847  -7.705673  \n",
       "1 Ave & E 30 St        0.644453      1.558185 -6.487140  -9.565009  \n",
       "1 Ave & E 44 St        5.240284      4.919736 -6.238329 -13.382294  "
      ]
     },
     "execution_count": 159,
     "metadata": {},
     "output_type": "execute_result"
    }
   ],
   "source": [
    "df_new_meta.head()"
   ]
  },
  {
   "cell_type": "code",
   "execution_count": 161,
   "metadata": {},
   "outputs": [],
   "source": [
    "df_new_meta.to_csv('../data/processed/df_meta_v2.csv')"
   ]
  },
  {
   "cell_type": "code",
   "execution_count": null,
   "metadata": {},
   "outputs": [],
   "source": []
  },
  {
   "cell_type": "code",
   "execution_count": null,
   "metadata": {},
   "outputs": [],
   "source": []
  },
  {
   "cell_type": "code",
   "execution_count": null,
   "metadata": {},
   "outputs": [],
   "source": []
  },
  {
   "cell_type": "code",
   "execution_count": null,
   "metadata": {},
   "outputs": [],
   "source": []
  },
  {
   "cell_type": "code",
   "execution_count": null,
   "metadata": {},
   "outputs": [],
   "source": []
  },
  {
   "cell_type": "code",
   "execution_count": null,
   "metadata": {},
   "outputs": [],
   "source": []
  },
  {
   "cell_type": "code",
   "execution_count": null,
   "metadata": {},
   "outputs": [],
   "source": []
  }
 ],
 "metadata": {
  "kernelspec": {
   "display_name": "Python 3",
   "language": "python",
   "name": "python3"
  },
  "language_info": {
   "codemirror_mode": {
    "name": "ipython",
    "version": 3
   },
   "file_extension": ".py",
   "mimetype": "text/x-python",
   "name": "python",
   "nbconvert_exporter": "python",
   "pygments_lexer": "ipython3",
   "version": "3.6.5"
  }
 },
 "nbformat": 4,
 "nbformat_minor": 2
}
