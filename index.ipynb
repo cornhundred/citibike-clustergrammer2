{
 "cells": [
  {
   "cell_type": "code",
   "execution_count": 1,
   "metadata": {},
   "outputs": [],
   "source": [
    "import pandas as pd\n",
    "\n",
    "from clustergrammer2 import net\n",
    "\n",
    "import ipywidgets as widgets\n",
    "import numpy as np\n",
    "from bqplot import pyplot as plt\n",
    "import bqplot\n",
    "from ipywidgets import HBox\n",
    "\n",
    "from copy import deepcopy\n",
    "from glob import glob\n",
    "from scipy.spatial.distance import pdist, squareform\n",
    "from scipy.spatial import Voronoi\n",
    "\n",
    "import warnings\n",
    "# warnings.filterwarnings('ignore')\n",
    "from IPython.display import display, Markdown"
   ]
  },
  {
   "cell_type": "code",
   "execution_count": 2,
   "metadata": {},
   "outputs": [
    {
     "data": {
      "text/html": [
       "<style>.container { width:100% !important; }</style>"
      ],
      "text/plain": [
       "<IPython.core.display.HTML object>"
      ]
     },
     "metadata": {},
     "output_type": "display_data"
    }
   ],
   "source": [
    "from IPython.core.display import display, HTML\n",
    "display(HTML(\"<style>.container { width:100% !important; }</style>\"))"
   ]
  },
  {
   "cell_type": "code",
   "execution_count": 3,
   "metadata": {},
   "outputs": [],
   "source": [
    "from ast import literal_eval as make_tuple"
   ]
  },
  {
   "cell_type": "code",
   "execution_count": 4,
   "metadata": {},
   "outputs": [
    {
     "data": {
      "text/markdown": [
       "# CITI Bike Clustergrammer2 Visualization"
      ],
      "text/plain": [
       "<IPython.core.display.Markdown object>"
      ]
     },
     "metadata": {},
     "output_type": "display_data"
    }
   ],
   "source": [
    "display(Markdown('# CITI Bike Clustergrammer2 Visualization'))"
   ]
  },
  {
   "cell_type": "code",
   "execution_count": 5,
   "metadata": {},
   "outputs": [],
   "source": [
    "def path_in_out(inst_marker, inst_direction):\n",
    "\n",
    "    # paths in\n",
    "    if inst_direction == 'in':\n",
    "        ser_opacity = df_gex.loc[inst_marker]\n",
    "        fig.title = 'Inbound to Station: ' + inst_marker        \n",
    "        \n",
    "    # paths out\n",
    "    else:\n",
    "        ser_opacity = df_gex[inst_marker]\n",
    "        fig.title = 'Outbound of Station: ' + inst_marker        \n",
    "        \n",
    "        \n",
    "    ser_opacity = ser_opacity / float(np.abs(ser_opacity.max()))\n",
    "\n",
    "    # loop up opacities\n",
    "    list_opacities = []\n",
    "    rows = ser_opacity.index.tolist()\n",
    "\n",
    "    list_marker_colors = []\n",
    "\n",
    "    for inst_name in df_gex.columns.tolist():\n",
    "\n",
    "        inst_opacity = ser_opacity[inst_name]\n",
    "\n",
    "        if inst_name == inst_marker:\n",
    "            list_opacities.append(1.0)\n",
    "        else:\n",
    "            list_opacities.append(np.abs(inst_opacity))\n",
    "\n",
    "        if inst_name == inst_marker:\n",
    "            list_marker_colors.append('black')\n",
    "        else:\n",
    "            if inst_opacity >= 0:\n",
    "                list_marker_colors.append('red')\n",
    "            else:\n",
    "                list_marker_colors.append('blue')\n",
    "\n",
    "    scatter.default_opacities = list_opacities\n",
    "    scatter.colors = list_marker_colors\n"
   ]
  },
  {
   "cell_type": "code",
   "execution_count": 6,
   "metadata": {},
   "outputs": [],
   "source": [
    "df_meta = pd.read_csv('data/processed/df_meta_v2.csv', index_col=0)"
   ]
  },
  {
   "cell_type": "code",
   "execution_count": 7,
   "metadata": {},
   "outputs": [],
   "source": [
    "net.viz = net.load_json_to_dict('data/processed/pre-calc-viz.json')"
   ]
  },
  {
   "cell_type": "code",
   "execution_count": 8,
   "metadata": {},
   "outputs": [],
   "source": [
    "ini_cat_colors = net.viz['cat_colors']['col']['cat-0']\n",
    "cat_colors = {}\n",
    "for inst_key in ini_cat_colors:\n",
    "    cat_colors[inst_key.split(': ')[1]] = ini_cat_colors[inst_key]"
   ]
  },
  {
   "cell_type": "code",
   "execution_count": 9,
   "metadata": {},
   "outputs": [],
   "source": [
    "mean_long = df_meta['start station longitude'].mean()\n",
    "mean_lat = df_meta['start station latitude'].mean()\n",
    "df_meta['plot-x'] = df_meta['start station longitude'].apply(lambda x: 25000 * (x - mean_long) + 1800)\n",
    "df_meta['plot-y'] = df_meta['start station latitude'].apply(lambda x:  25000 * (x - mean_lat) + 2000)\n"
   ]
  },
  {
   "cell_type": "code",
   "execution_count": 10,
   "metadata": {},
   "outputs": [],
   "source": [
    "df_gex = pd.read_csv('data/processed/citibike.csv', index_col=0)\n",
    "df_gex.index = [make_tuple(x)[0] for x in df_gex.index.tolist()]\n",
    "df_gex.columns = [make_tuple(x)[0] for x in df_gex.columns.tolist()]"
   ]
  },
  {
   "cell_type": "code",
   "execution_count": 11,
   "metadata": {},
   "outputs": [],
   "source": [
    "df_meta['station'] = df_meta.index"
   ]
  },
  {
   "cell_type": "code",
   "execution_count": 12,
   "metadata": {},
   "outputs": [],
   "source": [
    "dot_names = list(map(lambda x,y: str(x) + '-' + str(y), df_meta['station'].tolist(), df_meta.index.tolist()) )"
   ]
  },
  {
   "cell_type": "code",
   "execution_count": 13,
   "metadata": {},
   "outputs": [],
   "source": [
    "def scatter_observe(scatter, hover_data):\n",
    "    scatter.colors = cell_type_colors\n",
    "    \n",
    "    # get row name\n",
    "    inst_name = hover_data['data']['name'].split('-')[0]\n",
    "    \n",
    "    try:\n",
    "        if 'Inbound' in fig.title:\n",
    "            path_in_out(inst_name, 'out')\n",
    "        elif 'Outbound' in fig.title:\n",
    "            path_in_out(inst_name, 'in')\n",
    "        else:\n",
    "            path_in_out(inst_name, 'out') \n",
    "    except:\n",
    "        pass"
   ]
  },
  {
   "cell_type": "code",
   "execution_count": 14,
   "metadata": {},
   "outputs": [],
   "source": [
    "x_dim = 2000\n",
    "y_dim = 2000\n",
    "\n",
    "fig = plt.figure(animation_duration=2000)\n",
    "\n",
    "# will be re-used to reset cell type colors\n",
    "cell_type_colors = [ cat_colors[df_meta.loc[x, 'Neighborhood']] for x in df_gex.columns.tolist()]\n",
    "\n",
    "def_tt = bqplot.Tooltip(fields=['name'], formats=[''])\n",
    "# def_tt.opacity = 0.5\n",
    "\n",
    "scatter = plt.scatter(df_meta['plot-x'], \n",
    "                      df_meta['plot-y'],\n",
    "                      display_names=False, \n",
    "                      default_size=20, \n",
    "#                       tooltip=def_tt,\n",
    "                      names=dot_names,\n",
    "                      colors=cell_type_colors)\n",
    "\n",
    "\n",
    "\n",
    "scatter.default_size = 105\n",
    "\n",
    "top_margin = 200\n",
    "inst_width = 800\n",
    "inst_height = 1000\n",
    "fig.layout.min_height = str(inst_height) + 'px'\n",
    "fig.layout.min_width  = str(inst_width) + 'px'\n",
    "\n",
    "plt.xlim(0, 2.0*x_dim)\n",
    "plt.ylim(0, 2.0*y_dim)\n",
    "fig.title = 'CITI Bike'\n",
    "fig.fig_margin = {'top': top_margin, 'bottom': 5, 'left': 5, 'right': 5}\n"
   ]
  },
  {
   "cell_type": "code",
   "execution_count": 15,
   "metadata": {},
   "outputs": [],
   "source": [
    "# scatter.on_hover(callback=scatter_observe)\n",
    "scatter.on_element_click(callback=scatter_observe)"
   ]
  },
  {
   "cell_type": "code",
   "execution_count": 16,
   "metadata": {},
   "outputs": [],
   "source": [
    "default_opacity = 1"
   ]
  },
  {
   "cell_type": "code",
   "execution_count": 17,
   "metadata": {},
   "outputs": [],
   "source": [
    "def cat_highlight(inst_value):\n",
    "    \n",
    "    scatter.colors = cell_type_colors  \n",
    "    cols = df_gex.columns.tolist()\n",
    "\n",
    "    if inst_value == 'reset_cats':\n",
    "        list_opacities = [default_opacity for x in cols]\n",
    "        scatter.default_opacities = list_opacities\n",
    "        \n",
    "    else:\n",
    "        \n",
    "        inst_cat_title = inst_value.split(': ')[0]\n",
    "        inst_cat = inst_value.split(': ')[1]\n",
    "\n",
    "        list_opacities = []\n",
    "\n",
    "        for inst_label in cols:\n",
    "            inst_opacity = 0.15\n",
    "            if df_meta.loc[inst_label, inst_cat_title] == inst_cat:\n",
    "                inst_opacity = 1\n",
    "            list_opacities.append(inst_opacity)        \n",
    "\n",
    "         \n",
    "    scatter.default_opacities = list_opacities\n"
   ]
  },
  {
   "cell_type": "code",
   "execution_count": 18,
   "metadata": {},
   "outputs": [],
   "source": [
    "def on_value_change(change):\n",
    "    \n",
    "    try:\n",
    "        if change['new'] == 'null':\n",
    "\n",
    "            # category highlight\n",
    "            cat_highlight('reset_cats')\n",
    "            fig.title = 'CITI Bike'\n",
    "\n",
    "        else: \n",
    "\n",
    "            # mousing over category\n",
    "            if 'cat-' in change['new']:\n",
    "                inst_cat = change['new'].split(' -> ')[1]\n",
    "\n",
    "                # print('on_value_change', inst_cat)\n",
    "                cat_highlight(inst_cat)       \n",
    "\n",
    "                fig.title = 'CITI Bike'\n",
    "\n",
    "            # mousing over marker\n",
    "            elif 'row-label' in change['new']:\n",
    "\n",
    "                inst_marker = change['new'].split(' -> ')[1]\n",
    "                path_in_out(inst_marker, 'in')\n",
    "\n",
    "            elif 'col-dendro' in change['new']:\n",
    "                # print('found col dendro!!!!!!!!!!!!!!!!!!!!')\n",
    "\n",
    "                found_indexes = [int(x) for x in change['new'].split(' -> ')[1].split(',')]\n",
    "\n",
    "                ser_index = pd.Series(df_meta.index.tolist())\n",
    "                found_barcodes = ser_index.loc[found_indexes].tolist()\n",
    "                # print(found_barcodes)\n",
    "\n",
    "                # set to default cell type colors\n",
    "                scatter.colors = cell_type_colors\n",
    "\n",
    "                list_opacities = [1.0 if x in found_barcodes else 0.1 for x in df_gex.columns.tolist()]\n",
    "                scatter.default_opacities = list_opacities\n",
    "\n",
    "                # print(list_opacities)\n",
    "\n",
    "            # elif 'matrix-cell' in change['new']:\n",
    "            #     print('found matrix cell', change['new'])\n",
    "            else:\n",
    "                # print('reset color and opacity')\n",
    "                scatter.colors = cell_type_colors\n",
    "                scatter.default_opacities = [1.0] * df_meta.shape[0]\n",
    "            \n",
    "    except:\n",
    "        pass\n"
   ]
  },
  {
   "cell_type": "code",
   "execution_count": 19,
   "metadata": {},
   "outputs": [],
   "source": [
    "net.widget()\n",
    "net.widget_instance.observe(on_value_change, names='value')"
   ]
  },
  {
   "cell_type": "code",
   "execution_count": 20,
   "metadata": {},
   "outputs": [],
   "source": [
    "from IPython.display import display\n",
    "location_button = widgets.Button(description=\"Station Location\")\n",
    "umap_button = widgets.Button(description=\"UMAP\")\n",
    "\n",
    "# display(button)\n",
    "\n",
    "def on_location_button_click(b):\n",
    "#     print(\"Location clicked.\")\n",
    "    scatter.y = df_meta['plot-y']\n",
    "    scatter.x = df_meta['plot-x']        \n",
    "    \n",
    "def on_umap_button_click(b):\n",
    "#     print(\"Location clicked.\")\n",
    "    scatter.y = df_meta['umap-y'] * 125 + 2200\n",
    "    scatter.x = df_meta['umap-x'] * 125 + 2500                    \n",
    "    \n",
    "\n",
    "location_button.on_click(on_location_button_click)\n",
    "umap_button.on_click(on_umap_button_click)\n",
    "\n",
    "# HBox([location_button, umap_button])"
   ]
  },
  {
   "cell_type": "code",
   "execution_count": 21,
   "metadata": {
    "scrolled": false
   },
   "outputs": [
    {
     "data": {
      "application/vnd.jupyter.widget-view+json": {
       "model_id": "eb4e381391cb4c8e9625b9de71b84542",
       "version_major": 2,
       "version_minor": 0
      },
      "text/plain": [
       "HBox(children=(VBox(children=(HBox(children=(Button(description='Station Location', style=ButtonStyle()), Butt…"
      ]
     },
     "metadata": {},
     "output_type": "display_data"
    }
   ],
   "source": [
    "button_section = widgets.HBox([location_button, umap_button])\n",
    "left_box = widgets.VBox([button_section, fig])\n",
    "right_box = widgets.VBox([net.widget_instance])\n",
    "widgets.HBox([left_box, right_box])\n",
    "# widgets.HBox([left_box])"
   ]
  },
  {
   "cell_type": "markdown",
   "metadata": {},
   "source": [
    "This notebook visualizes public data from CITI Bike from July 2019 of over 2.18 million rides. We plot CITI Bike locations (using [bqplot](https://bqplot.readthedocs.io/en/latest/)) and visualize the connections between stations using [Clustergrammer2](https://clustergrammer.readthedocs.io/clustergrammer2.html). The Clustergrammer2 heatmap visualizes 787 CITI Bike stations as origin (columns) and destination (rows) stations that depict the high-dimensional destination probability distributions for each origin station (rows were Z-scored to emphasize relative changes over absolute distribution levels). Stations were hierarchically clustered (columns) and manually assigned to 12 broadly data driven NYC \"neighborhoods\" based on similar destination station distributions. We see that data driven station clustering broadly agrees with physical location and we can identify clusters of stations at varying granularity using the interactive dendrogram. These linked views also enable the interactive exploration of origin station distributions (e.g. where riders left from to arrive at the destination station): clicking on a row destination station highlights the station in black and shows where riders came from (red indicates more riders); clicking a station in the map toggles between outbound and inbound distributions. We embedded stations in a dimensionality-reduced UMAP space (reducing the 787-dimension destination space) and allow animated transitioning between physical location and dimensionality reduced space - note lower Manhatten twisting around in the animation. Finally, in addition to broad neighborhood we added four additional categories for each station: cross street x, cross stree y, average age of departing riders (age - 40), and average age of arriving riders. "
   ]
  },
  {
   "cell_type": "code",
   "execution_count": null,
   "metadata": {},
   "outputs": [],
   "source": []
  },
  {
   "cell_type": "code",
   "execution_count": null,
   "metadata": {},
   "outputs": [],
   "source": []
  },
  {
   "cell_type": "code",
   "execution_count": null,
   "metadata": {},
   "outputs": [],
   "source": []
  },
  {
   "cell_type": "code",
   "execution_count": null,
   "metadata": {},
   "outputs": [],
   "source": []
  },
  {
   "cell_type": "code",
   "execution_count": null,
   "metadata": {},
   "outputs": [],
   "source": []
  },
  {
   "cell_type": "code",
   "execution_count": null,
   "metadata": {},
   "outputs": [],
   "source": []
  },
  {
   "cell_type": "code",
   "execution_count": null,
   "metadata": {},
   "outputs": [],
   "source": []
  },
  {
   "cell_type": "code",
   "execution_count": null,
   "metadata": {},
   "outputs": [],
   "source": []
  },
  {
   "cell_type": "code",
   "execution_count": null,
   "metadata": {},
   "outputs": [],
   "source": []
  }
 ],
 "metadata": {
  "kernelspec": {
   "display_name": "Python 3",
   "language": "python",
   "name": "python3"
  },
  "language_info": {
   "codemirror_mode": {
    "name": "ipython",
    "version": 3
   },
   "file_extension": ".py",
   "mimetype": "text/x-python",
   "name": "python",
   "nbconvert_exporter": "python",
   "pygments_lexer": "ipython3",
   "version": "3.6.5"
  }
 },
 "nbformat": 4,
 "nbformat_minor": 2
}
